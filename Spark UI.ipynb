{
 "cells": [
  {
   "cell_type": "markdown",
   "metadata": {},
   "source": [
    "## RDDs"
   ]
  },
  {
   "cell_type": "code",
   "execution_count": null,
   "metadata": {
    "collapsed": false
   },
   "outputs": [],
   "source": [
    "rdd = sc.parallelize([1,2,3,4], numSlices=4).map(lambda x: x + 1)"
   ]
  },
  {
   "cell_type": "code",
   "execution_count": null,
   "metadata": {
    "collapsed": false
   },
   "outputs": [],
   "source": [
    "rdd.collect()"
   ]
  },
  {
   "cell_type": "markdown",
   "metadata": {},
   "source": [
    "## Named RDDs"
   ]
  },
  {
   "cell_type": "code",
   "execution_count": null,
   "metadata": {
    "collapsed": true
   },
   "outputs": [],
   "source": [
    "named_rdd = sc.parallelize([3,4,5,6], numSlices=4).setName('createRDD').map(lambda x: x + 1).setName('add 1')"
   ]
  },
  {
   "cell_type": "code",
   "execution_count": null,
   "metadata": {
    "collapsed": false
   },
   "outputs": [],
   "source": [
    "named_rdd.collect()"
   ]
  },
  {
   "cell_type": "markdown",
   "metadata": {},
   "source": [
    "## Two Stages"
   ]
  },
  {
   "cell_type": "code",
   "execution_count": null,
   "metadata": {
    "collapsed": false
   },
   "outputs": [],
   "source": [
    "two_stages = sc.parallelize([9,10,11,12], numSlices=4).setName('createRDD') \\\n",
    "                .map(lambda x: (x, 1)).setName('make key value') \\\n",
    "                .reduceByKey(lambda x, y: x + y).setName('reduceSum')"
   ]
  },
  {
   "cell_type": "code",
   "execution_count": null,
   "metadata": {
    "collapsed": false
   },
   "outputs": [],
   "source": [
    "two_stages.collect()"
   ]
  },
  {
   "cell_type": "markdown",
   "metadata": {},
   "source": [
    "## Repeated Computation - No Cache"
   ]
  },
  {
   "cell_type": "code",
   "execution_count": null,
   "metadata": {
    "collapsed": false
   },
   "outputs": [],
   "source": [
    "def slowdown(value):\n",
    "    import time\n",
    "    time.sleep(5)\n",
    "    return value\n",
    "\n",
    "initialRDD = sc.parallelize([9,10,11,12], numSlices=4).setName('createRDD')\n",
    "slowComp = initialRDD.map(slowdown).setName('slowComp')\n",
    "remap1 = slowComp.map(lambda key: (key, 1)).setName('remap 1')\n",
    "remap2 = slowComp.map(lambda key: (key + 1, 1)).setName('remap 2')\n",
    "joined = remap1.join(remap2).setName('joined')"
   ]
  },
  {
   "cell_type": "code",
   "execution_count": null,
   "metadata": {
    "collapsed": false,
    "scrolled": true
   },
   "outputs": [],
   "source": [
    "joined.collect()"
   ]
  },
  {
   "cell_type": "markdown",
   "metadata": {},
   "source": [
    "## Repeated Computation - Cache"
   ]
  },
  {
   "cell_type": "code",
   "execution_count": null,
   "metadata": {
    "collapsed": true
   },
   "outputs": [],
   "source": [
    "initialRDD = sc.parallelize([21,22,23,24], numSlices=4).setName('createRDD')\n",
    "slowComp = initialRDD.map(slowdown).cache().setName('slowComp')\n",
    "remap1 = slowComp.map(lambda key: (key, 1)).setName('remap 1')\n",
    "remap2 = slowComp.map(lambda key: (key + 1, 1)).setName('remap 2')\n",
    "joined = remap1.join(remap2).setName('joined')"
   ]
  },
  {
   "cell_type": "code",
   "execution_count": null,
   "metadata": {
    "collapsed": false
   },
   "outputs": [],
   "source": [
    "joined.collect()"
   ]
  },
  {
   "cell_type": "code",
   "execution_count": null,
   "metadata": {
    "collapsed": true
   },
   "outputs": [],
   "source": []
  }
 ],
 "metadata": {
  "kernelspec": {
   "display_name": "Python 2",
   "language": "python",
   "name": "python2"
  },
  "language_info": {
   "codemirror_mode": {
    "name": "ipython",
    "version": 2
   },
   "file_extension": ".py",
   "mimetype": "text/x-python",
   "name": "python",
   "nbconvert_exporter": "python",
   "pygments_lexer": "ipython2",
   "version": "2.7.12"
  }
 },
 "nbformat": 4,
 "nbformat_minor": 0
}
